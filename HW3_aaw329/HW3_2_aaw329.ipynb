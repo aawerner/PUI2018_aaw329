{
 "cells": [
  {
   "cell_type": "code",
   "execution_count": 1,
   "metadata": {},
   "outputs": [
    {
     "name": "stdout",
     "output_type": "stream",
     "text": [
      "PUIDATA=/nfshome/aaw329/PUIdata\n"
     ]
    }
   ],
   "source": [
    "# Get value of PUIDATA environment variable. If it's not set, set it.\n",
    "import os\n",
    "puidata = os.getenv(\"PUIDATA\")\n",
    "if puidata is None:\n",
    "    puidata = os.environ[\"PUIDATA\"] = \"%s/PUIdata\" % os.getenv(\"HOME\")\n",
    "print(\"PUIDATA=\" + puidata)"
   ]
  },
  {
   "cell_type": "code",
   "execution_count": 2,
   "metadata": {},
   "outputs": [
    {
     "data": {
      "text/html": [
       "<div>\n",
       "<table border=\"1\" class=\"dataframe\">\n",
       "  <thead>\n",
       "    <tr style=\"text-align: right;\">\n",
       "      <th></th>\n",
       "      <th>Date</th>\n",
       "      <th>Ashokan East Storage</th>\n",
       "      <th>Ashokan East Elevation</th>\n",
       "      <th>Ashokan West Storage</th>\n",
       "      <th>Ashokan West Elevation</th>\n",
       "      <th>Schoharie Storage</th>\n",
       "      <th>Schoharie Elevation</th>\n",
       "      <th>Rondout Storage</th>\n",
       "      <th>Rondout Elevation</th>\n",
       "      <th>Neversink Storage</th>\n",
       "      <th>Neversink Elevation</th>\n",
       "      <th>Pepacton Storage</th>\n",
       "      <th>Pepacton Elevation</th>\n",
       "      <th>Cannonsville Storage</th>\n",
       "      <th>Cannonsville Elevation</th>\n",
       "    </tr>\n",
       "  </thead>\n",
       "  <tbody>\n",
       "    <tr>\n",
       "      <th>0</th>\n",
       "      <td>11/01/2017</td>\n",
       "      <td>65.36</td>\n",
       "      <td>577.86</td>\n",
       "      <td>36.34</td>\n",
       "      <td>577.89</td>\n",
       "      <td>12.92</td>\n",
       "      <td>1109.86</td>\n",
       "      <td>47.26</td>\n",
       "      <td>835.85</td>\n",
       "      <td>30.74</td>\n",
       "      <td>1430.03</td>\n",
       "      <td>116.60</td>\n",
       "      <td>1264.45</td>\n",
       "      <td>47.69</td>\n",
       "      <td>1112.87</td>\n",
       "    </tr>\n",
       "    <tr>\n",
       "      <th>1</th>\n",
       "      <td>11/02/2017</td>\n",
       "      <td>64.95</td>\n",
       "      <td>577.58</td>\n",
       "      <td>36.82</td>\n",
       "      <td>578.59</td>\n",
       "      <td>13.28</td>\n",
       "      <td>1111.05</td>\n",
       "      <td>47.32</td>\n",
       "      <td>835.94</td>\n",
       "      <td>30.68</td>\n",
       "      <td>1429.90</td>\n",
       "      <td>116.87</td>\n",
       "      <td>1264.61</td>\n",
       "      <td>48.20</td>\n",
       "      <td>1113.33</td>\n",
       "    </tr>\n",
       "    <tr>\n",
       "      <th>2</th>\n",
       "      <td>11/03/2017</td>\n",
       "      <td>64.36</td>\n",
       "      <td>577.31</td>\n",
       "      <td>37.18</td>\n",
       "      <td>579.14</td>\n",
       "      <td>13.56</td>\n",
       "      <td>1111.97</td>\n",
       "      <td>47.22</td>\n",
       "      <td>835.79</td>\n",
       "      <td>30.72</td>\n",
       "      <td>1429.99</td>\n",
       "      <td>117.08</td>\n",
       "      <td>1264.74</td>\n",
       "      <td>48.66</td>\n",
       "      <td>1113.74</td>\n",
       "    </tr>\n",
       "    <tr>\n",
       "      <th>3</th>\n",
       "      <td>11/04/2017</td>\n",
       "      <td>63.71</td>\n",
       "      <td>576.94</td>\n",
       "      <td>37.49</td>\n",
       "      <td>579.56</td>\n",
       "      <td>13.78</td>\n",
       "      <td>1112.73</td>\n",
       "      <td>47.28</td>\n",
       "      <td>835.88</td>\n",
       "      <td>30.83</td>\n",
       "      <td>1430.22</td>\n",
       "      <td>117.15</td>\n",
       "      <td>1264.78</td>\n",
       "      <td>49.05</td>\n",
       "      <td>1114.09</td>\n",
       "    </tr>\n",
       "    <tr>\n",
       "      <th>4</th>\n",
       "      <td>11/05/2017</td>\n",
       "      <td>63.15</td>\n",
       "      <td>576.52</td>\n",
       "      <td>37.78</td>\n",
       "      <td>579.92</td>\n",
       "      <td>13.98</td>\n",
       "      <td>1113.39</td>\n",
       "      <td>47.36</td>\n",
       "      <td>836.00</td>\n",
       "      <td>30.94</td>\n",
       "      <td>1430.47</td>\n",
       "      <td>117.11</td>\n",
       "      <td>1264.76</td>\n",
       "      <td>49.35</td>\n",
       "      <td>1114.36</td>\n",
       "    </tr>\n",
       "    <tr>\n",
       "      <th>5</th>\n",
       "      <td>11/06/2017</td>\n",
       "      <td>62.53</td>\n",
       "      <td>576.14</td>\n",
       "      <td>38.04</td>\n",
       "      <td>580.24</td>\n",
       "      <td>14.19</td>\n",
       "      <td>1114.04</td>\n",
       "      <td>47.46</td>\n",
       "      <td>836.14</td>\n",
       "      <td>31.07</td>\n",
       "      <td>1430.75</td>\n",
       "      <td>117.23</td>\n",
       "      <td>1264.83</td>\n",
       "      <td>49.75</td>\n",
       "      <td>1114.72</td>\n",
       "    </tr>\n",
       "    <tr>\n",
       "      <th>6</th>\n",
       "      <td>11/07/2017</td>\n",
       "      <td>61.92</td>\n",
       "      <td>575.75</td>\n",
       "      <td>38.28</td>\n",
       "      <td>580.52</td>\n",
       "      <td>14.38</td>\n",
       "      <td>1114.66</td>\n",
       "      <td>47.50</td>\n",
       "      <td>836.21</td>\n",
       "      <td>31.19</td>\n",
       "      <td>1431.01</td>\n",
       "      <td>117.20</td>\n",
       "      <td>1264.81</td>\n",
       "      <td>50.13</td>\n",
       "      <td>1115.06</td>\n",
       "    </tr>\n",
       "  </tbody>\n",
       "</table>\n",
       "</div>"
      ],
      "text/plain": [
       "  Date                Ashokan East Storage  Ashokan East Elevation  \\\n",
       "0         11/01/2017                 65.36                  577.86   \n",
       "1         11/02/2017                 64.95                  577.58   \n",
       "2         11/03/2017                 64.36                  577.31   \n",
       "3         11/04/2017                 63.71                  576.94   \n",
       "4         11/05/2017                 63.15                  576.52   \n",
       "5         11/06/2017                 62.53                  576.14   \n",
       "6         11/07/2017                 61.92                  575.75   \n",
       "\n",
       "   Ashokan West Storage  Ashokan West Elevation  Schoharie Storage  \\\n",
       "0                 36.34                  577.89              12.92   \n",
       "1                 36.82                  578.59              13.28   \n",
       "2                 37.18                  579.14              13.56   \n",
       "3                 37.49                  579.56              13.78   \n",
       "4                 37.78                  579.92              13.98   \n",
       "5                 38.04                  580.24              14.19   \n",
       "6                 38.28                  580.52              14.38   \n",
       "\n",
       "   Schoharie Elevation  Rondout Storage  Rondout Elevation  Neversink Storage  \\\n",
       "0              1109.86            47.26             835.85              30.74   \n",
       "1              1111.05            47.32             835.94              30.68   \n",
       "2              1111.97            47.22             835.79              30.72   \n",
       "3              1112.73            47.28             835.88              30.83   \n",
       "4              1113.39            47.36             836.00              30.94   \n",
       "5              1114.04            47.46             836.14              31.07   \n",
       "6              1114.66            47.50             836.21              31.19   \n",
       "\n",
       "   Neversink Elevation  Pepacton Storage  Pepacton Elevation  \\\n",
       "0              1430.03            116.60             1264.45   \n",
       "1              1429.90            116.87             1264.61   \n",
       "2              1429.99            117.08             1264.74   \n",
       "3              1430.22            117.15             1264.78   \n",
       "4              1430.47            117.11             1264.76   \n",
       "5              1430.75            117.23             1264.83   \n",
       "6              1431.01            117.20             1264.81   \n",
       "\n",
       "   Cannonsville Storage  Cannonsville Elevation  \n",
       "0                 47.69                 1112.87  \n",
       "1                 48.20                 1113.33  \n",
       "2                 48.66                 1113.74  \n",
       "3                 49.05                 1114.09  \n",
       "4                 49.35                 1114.36  \n",
       "5                 49.75                 1114.72  \n",
       "6                 50.13                 1115.06  "
      ]
     },
     "execution_count": 2,
     "metadata": {},
     "output_type": "execute_result"
    }
   ],
   "source": [
    "# Obtain dataset from NYC OpenData (https://data.cityofnewyork.us/Environment/Current-Reservoir-Levels/zkky-n5j3)\n",
    "import pandas as pd\n",
    "res_lvls = pd.read_csv(\"https://data.cityofnewyork.us/api/views/zkky-n5j3/rows.csv\")\n",
    "res_lvls.head(7) # Print the first 7 rows"
   ]
  },
  {
   "cell_type": "code",
   "execution_count": 4,
   "metadata": {},
   "outputs": [],
   "source": [
    "# Select only the third and fourth columns\n",
    "res_lvls = res_lvls[[2,4]]"
   ]
  },
  {
   "cell_type": "code",
   "execution_count": 5,
   "metadata": {},
   "outputs": [
    {
     "data": {
      "text/html": [
       "<div>\n",
       "<table border=\"1\" class=\"dataframe\">\n",
       "  <thead>\n",
       "    <tr style=\"text-align: right;\">\n",
       "      <th></th>\n",
       "      <th>Ashokan East Elevation</th>\n",
       "      <th>Ashokan West Elevation</th>\n",
       "    </tr>\n",
       "  </thead>\n",
       "  <tbody>\n",
       "    <tr>\n",
       "      <th>0</th>\n",
       "      <td>577.86</td>\n",
       "      <td>577.89</td>\n",
       "    </tr>\n",
       "    <tr>\n",
       "      <th>1</th>\n",
       "      <td>577.58</td>\n",
       "      <td>578.59</td>\n",
       "    </tr>\n",
       "    <tr>\n",
       "      <th>2</th>\n",
       "      <td>577.31</td>\n",
       "      <td>579.14</td>\n",
       "    </tr>\n",
       "    <tr>\n",
       "      <th>3</th>\n",
       "      <td>576.94</td>\n",
       "      <td>579.56</td>\n",
       "    </tr>\n",
       "    <tr>\n",
       "      <th>4</th>\n",
       "      <td>576.52</td>\n",
       "      <td>579.92</td>\n",
       "    </tr>\n",
       "    <tr>\n",
       "      <th>5</th>\n",
       "      <td>576.14</td>\n",
       "      <td>580.24</td>\n",
       "    </tr>\n",
       "    <tr>\n",
       "      <th>6</th>\n",
       "      <td>575.75</td>\n",
       "      <td>580.52</td>\n",
       "    </tr>\n",
       "  </tbody>\n",
       "</table>\n",
       "</div>"
      ],
      "text/plain": [
       "   Ashokan East Elevation  Ashokan West Elevation\n",
       "0                  577.86                  577.89\n",
       "1                  577.58                  578.59\n",
       "2                  577.31                  579.14\n",
       "3                  576.94                  579.56\n",
       "4                  576.52                  579.92\n",
       "5                  576.14                  580.24\n",
       "6                  575.75                  580.52"
      ]
     },
     "execution_count": 5,
     "metadata": {},
     "output_type": "execute_result"
    }
   ],
   "source": [
    "res_lvls.head(7)"
   ]
  },
  {
   "cell_type": "code",
   "execution_count": 9,
   "metadata": {},
   "outputs": [
    {
     "data": {
      "text/plain": [
       "<matplotlib.axes._subplots.AxesSubplot at 0x7f1a232ecbe0>"
      ]
     },
     "execution_count": 9,
     "metadata": {},
     "output_type": "execute_result"
    },
    {
     "data": {
      "image/png": "[encoded data removed]",
      "text/plain": [
       "<matplotlib.figure.Figure at 0x7f1a1e724400>"
      ]
     },
     "metadata": {},
     "output_type": "display_data"
    }
   ],
   "source": [
    "%matplotlib inline\n",
    "res_lvls.plot(x=\"Ashokan East Elevation\", y=\"Ashokan West Elevation\", kind=\"scatter\")"
   ]
  },
  {
   "cell_type": "markdown",
   "metadata": {},
   "source": [
    "Figure 1: scatter plot of elevation of Ashokan East and Ashokan West reservors. "
   ]
  },
  {
   "cell_type": "code",
   "execution_count": null,
   "metadata": {},
   "outputs": [],
   "source": []
  }
 ],
 "metadata": {
  "kernelspec": {
   "display_name": "PUI2016_Python3",
   "language": "python",
   "name": "pui2016_python3"
  },
  "language_info": {
   "codemirror_mode": {
    "name": "ipython",
    "version": 3
   },
   "file_extension": ".py",
   "mimetype": "text/x-python",
   "name": "python",
   "nbconvert_exporter": "python",
   "pygments_lexer": "ipython3",
   "version": "3.5.4"
  }
 },
 "nbformat": 4,
 "nbformat_minor": 2
}

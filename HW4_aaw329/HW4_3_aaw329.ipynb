{
 "cells": [
  {
   "cell_type": "markdown",
   "metadata": {},
   "source": [
    "# Assignment 3\n",
    "\n",
    "### Hypothesis formulation\n",
    "\n",
    "Null hypothesis: the average commute time is the same or longer on the new bus route, compared to the old route.\n",
    "\n",
    "$$ H_0: T_{new} >= T_{old} $$\n",
    "\n",
    "Alternative hypothesis: the average commute time is shorter on the new bus route, compared to the old route.\n",
    "\n",
    "$$ H_a: T_{new} < T_{old} $$\n",
    "\n",
    "Significance level $\\alpha = 0.05$"
   ]
  },
  {
   "cell_type": "code",
   "execution_count": 1,
   "metadata": {},
   "outputs": [],
   "source": [
    "import os\n",
    "import sys\n",
    "import numpy as np"
   ]
  },
  {
   "cell_type": "code",
   "execution_count": 2,
   "metadata": {},
   "outputs": [
    {
     "name": "stdout",
     "output_type": "stream",
     "text": [
      "PUIDATA=/nfshome/aaw329/PUIdata\n"
     ]
    }
   ],
   "source": [
    "# Exit if PUIDATA is not set. Otherwise, print the value.\n",
    "puidata = os.getenv(\"PUIDATA\")\n",
    "if puidata is None:\n",
    "    print(\"You must set the PUIDATA environment variable.\")\n",
    "    sys.exit(1)\n",
    "else:\n",
    "    print(\"PUIDATA=%s\" % puidata)"
   ]
  },
  {
   "cell_type": "markdown",
   "metadata": {},
   "source": [
    "### Acquire the new bus route time data"
   ]
  },
  {
   "cell_type": "code",
   "execution_count": 3,
   "metadata": {},
   "outputs": [
    {
     "name": "stdout",
     "output_type": "stream",
     "text": [
      "Successfully acquired data\n"
     ]
    }
   ],
   "source": [
    "url = \"https://raw.githubusercontent.com/fedhere/PUI2018_fb55/master/Lab4_fb55/times.txt\"\n",
    "filename = \"times_HW4_3_aaw329.txt\"\n",
    "if not os.path.isfile(puidata + \"/\" + filename):\n",
    "    print(\"Downloading data\")\n",
    "    os.system(\"wget -O \" + puidata + \"/\" + filename + \" \" + url)\n",
    "    \n",
    "# Make sure the correct file is present\n",
    "if not os.path.isfile(puidata + \"/\" + filename):\n",
    "    print(\"Problem acquiring data!\")\n",
    "    sys.exit(1)\n",
    "else:\n",
    "    print(\"Successfully acquired data\")"
   ]
  },
  {
   "cell_type": "markdown",
   "metadata": {},
   "source": [
    "### Gather statistics"
   ]
  },
  {
   "cell_type": "code",
   "execution_count": 4,
   "metadata": {},
   "outputs": [],
   "source": [
    "# Read in file with NumPy\n",
    "# Need to pass a space as \"sep\" parameter, otherwise the file is read as binary\n",
    "times_array = np.fromfile(puidata + \"/\" + filename, sep=\" \")  "
   ]
  },
  {
   "cell_type": "code",
   "execution_count": 5,
   "metadata": {},
   "outputs": [
    {
     "name": "stdout",
     "output_type": "stream",
     "text": [
      "New mean: 34.466162\n",
      "New std: 7.101504\n",
      "New N: 100.000000\n"
     ]
    }
   ],
   "source": [
    "old_mean = 36.0\n",
    "old_std = 6.0\n",
    "\n",
    "new_mean = times_array.mean()\n",
    "new_std = times_array.std()\n",
    "new_N = len(times_array)\n",
    "\n",
    "print(\"New mean: %f\" % new_mean)\n",
    "print(\"New std: %f\" % new_std)\n",
    "print(\"New N: %f\" % new_N)"
   ]
  },
  {
   "cell_type": "code",
   "execution_count": 6,
   "metadata": {},
   "outputs": [
    {
     "name": "stdout",
     "output_type": "stream",
     "text": [
      "Z score: 2.556397\n"
     ]
    }
   ],
   "source": [
    "# Calculate Z score\n",
    "Z = (old_mean - new_mean) / (old_std/np.sqrt(new_N))\n",
    "\n",
    "print(\"Z score: %f\" % Z)"
   ]
  },
  {
   "cell_type": "markdown",
   "metadata": {},
   "source": [
    "Since the Z-score, which is in terms of standard deviations, is greater than 2, we can reject the null hypothesis at our specified significance threshold of 5% (2 standard deviations is 95%)."
   ]
  }
 ],
 "metadata": {
  "kernelspec": {
   "display_name": "PUI2016_Python3",
   "language": "python",
   "name": "pui2016_python3"
  },
  "language_info": {
   "codemirror_mode": {
    "name": "ipython",
    "version": 3
   },
   "file_extension": ".py",
   "mimetype": "text/x-python",
   "name": "python",
   "nbconvert_exporter": "python",
   "pygments_lexer": "ipython3",
   "version": "3.5.4"
  }
 },
 "nbformat": 4,
 "nbformat_minor": 2
}
